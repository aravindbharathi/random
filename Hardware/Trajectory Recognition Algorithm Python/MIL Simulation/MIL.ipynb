{
 "cells": [
  {
   "cell_type": "code",
   "execution_count": 1,
   "metadata": {},
   "outputs": [],
   "source": [
    "import signal_proc\n",
    "import numpy as np\n",
    "import image_gen\n",
    "filename = \" \""
   ]
  },
  {
   "cell_type": "code",
   "execution_count": 2,
   "metadata": {},
   "outputs": [
    {
     "name": "stdout",
     "output_type": "stream",
     "text": [
      "Epoch 0 : 8190 / 10000\n",
      "Epoch 1 : 8357 / 10000\n",
      "Epoch 2 : 9272 / 10000\n",
      "Epoch 3 : 9350 / 10000\n",
      "Epoch 4 : 9381 / 10000\n",
      "Epoch 5 : 9425 / 10000\n",
      "Epoch 6 : 9381 / 10000\n",
      "Epoch 7 : 9393 / 10000\n",
      "Epoch 8 : 9470 / 10000\n",
      "Epoch 9 : 9457 / 10000\n"
     ]
    }
   ],
   "source": [
    "import mnist_loader\n",
    "training_data, validation_data, test_data = mnist_loader.load_data_wrapper()\n",
    "import network\n",
    "net = network.Network([784, 30, 10])\n",
    "net.SGD(training_data, 10, 10, 3.0, test_data)\n",
    "test_results = [(np.argmax(net.feedforward(x)), y) for (x, y) in list(test_data)]"
   ]
  },
  {
   "cell_type": "code",
   "execution_count": 27,
   "metadata": {},
   "outputs": [],
   "source": [
    "sp = signal_proc.Signal_Processing(filename)\n",
    "f_out = sp.processing()\n",
    "np.savetxt(\"acc.csv\",f_out,delimiter=',')"
   ]
  },
  {
   "cell_type": "code",
   "execution_count": 28,
   "metadata": {},
   "outputs": [
    {
     "data": {
      "image/png": "[encoded data removed]",
      "text/plain": [
       "<Figure size 432x288 with 1 Axes>"
      ]
     },
     "metadata": {
      "needs_background": "light"
     },
     "output_type": "display_data"
    }
   ],
   "source": [
    "arr_input = image_gen.image_generate()"
   ]
  },
  {
   "cell_type": "code",
   "execution_count": 29,
   "metadata": {},
   "outputs": [
    {
     "name": "stdout",
     "output_type": "stream",
     "text": [
      "5\n"
     ]
    }
   ],
   "source": [
    "arr_img=np.zeros((784,1))\n",
    "for i in range(28):\n",
    "    for j in range(28):\n",
    "        arr_img[28*i+j]=arr_input[i][j]\n",
    "#feedforward parameter should be of format [[1][2][3]...[784]]\n",
    "test_results = (np.argmax(net.feedforward(arr_img)))\n",
    "print(test_results)"
   ]
  }
 ],
 "metadata": {
  "kernelspec": {
   "display_name": "Python 3",
   "language": "python",
   "name": "python3"
  },
  "language_info": {
   "codemirror_mode": {
    "name": "ipython",
    "version": 3
   },
   "file_extension": ".py",
   "mimetype": "text/x-python",
   "name": "python",
   "nbconvert_exporter": "python",
   "pygments_lexer": "ipython3",
   "version": "3.7.6"
  }
 },
 "nbformat": 4,
 "nbformat_minor": 4
}
