{
 "cells": [
  {
   "cell_type": "code",
   "execution_count": 1,
   "metadata": {},
   "outputs": [
    {
     "name": "stdout",
     "output_type": "stream",
     "text": [
      "Epoch 0 : 9133 / 10000\n",
      "Epoch 1 : 9263 / 10000\n",
      "Epoch 2 : 9341 / 10000\n",
      "Epoch 3 : 9365 / 10000\n",
      "Epoch 4 : 9373 / 10000\n",
      "Epoch 5 : 9416 / 10000\n",
      "Epoch 6 : 9416 / 10000\n",
      "Epoch 7 : 9432 / 10000\n",
      "Epoch 8 : 9439 / 10000\n",
      "Epoch 9 : 9458 / 10000\n"
     ]
    }
   ],
   "source": [
    "import mnist_loader\n",
    "training_data, validation_data, test_data = mnist_loader.load_data_wrapper()\n",
    "import network\n",
    "net = network.Network([784, 30, 10])\n",
    "net.SGD(training_data, 10, 10, 3.0, test_data)\n",
    "test_results = [(np.argmax(net.feedforward(x)), y) for (x, y) in list(test_data)]"
   ]
  },
  {
   "cell_type": "code",
   "execution_count": 13,
   "metadata": {},
   "outputs": [
    {
     "name": "stdout",
     "output_type": "stream",
     "text": [
      "1\n"
     ]
    }
   ],
   "source": [
    "import numpy as np\n",
    "arr_input = np.genfromtxt(\"M5_image_final.csv\", delimiter=',')\n",
    "arr_img=np.zeros((784,1))\n",
    "for i in range(28):\n",
    "    for j in range(28):\n",
    "        arr_img[28*i+j]=arr_input[i][j]\n",
    "#feedforward parameter should be of format [[1][2][3]...[784]]\n",
    "test_results = (np.argmax(net.feedforward(arr_img)))\n",
    "print(test_results)"
   ]
  }
 ],
 "metadata": {
  "kernelspec": {
   "display_name": "Python 3",
   "language": "python",
   "name": "python3"
  },
  "language_info": {
   "codemirror_mode": {
    "name": "ipython",
    "version": 3
   },
   "file_extension": ".py",
   "mimetype": "text/x-python",
   "name": "python",
   "nbconvert_exporter": "python",
   "pygments_lexer": "ipython3",
   "version": "3.7.6"
  }
 },
 "nbformat": 4,
 "nbformat_minor": 4
}
